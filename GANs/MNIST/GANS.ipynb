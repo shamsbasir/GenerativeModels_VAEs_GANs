{
 "cells": [
  {
   "cell_type": "code",
   "execution_count": null,
   "metadata": {
    "id": "pBys0G12Loxc"
   },
   "outputs": [],
   "source": [
    "from google.colab import drive\n",
    "drive.mount('/content/drive')"
   ]
  },
  {
   "cell_type": "code",
   "execution_count": null,
   "metadata": {
    "id": "-w_4alYdMJKL"
   },
   "outputs": [],
   "source": [
    "import os, sys\n",
    "sys.path.append(\"/content/drive/MyDrive/HW5/2_GANS/5_2_2_implementations/MNIST\")\n",
    "os.makedirs(\"/content/drive/MyDrive/HW5/2_GANS/5_2_2_implementations/MNIST/checkpoint/\",exist_ok = True)"
   ]
  },
  {
   "cell_type": "code",
   "execution_count": null,
   "metadata": {
    "id": "Du6e5PoSLfyL"
   },
   "outputs": [],
   "source": [
    "# Reference :  https://deeplearning.cs.cmu.edu/S20/document/recitation/recitation13.pdf\n",
    "import torch\n",
    "from torch import nn\n",
    "import matplotlib.pyplot as plt\n",
    "from tqdm import trange, tqdm\n",
    "\n",
    "\n",
    "\n",
    "from Discriminator import Discriminator\n",
    "from Generator import Generator\n",
    "from data_loader import train_loader\n",
    "from gan_loss_template import gan_loss_discriminator\n",
    "from gan_loss_template import non_saturating_gan_loss_generator\n",
    "from gan_loss_template import  wgan_loss_discriminator\n",
    "from gan_loss_template import wgan_gradient_penalty\n",
    "from config import lr, batch_size, latent_dim, n_critic, n_epochs, device\n"
   ]
  },
  {
   "cell_type": "code",
   "execution_count": null,
   "metadata": {
    "id": "jAiHsufiQXAl"
   },
   "outputs": [],
   "source": [
    "print(f\"lr : {lr}, batch_size :{batch_size}, latent_dim :{latent_dim}, device : {device}, n_epochs :{n_epochs}\")"
   ]
  },
  {
   "cell_type": "code",
   "execution_count": null,
   "metadata": {
    "id": "IaKpWUmKNLML"
   },
   "outputs": [],
   "source": [
    "# ----------------------------------------------\n",
    "#  Models : discriminator and generatore \n",
    "# ----------------------------------------------\n",
    "discriminator    = Discriminator()\n",
    "generator        = Generator(latent_dim)\n",
    "\n",
    "generator.to(device)\n",
    "discriminator.to(device)\n",
    "\n",
    "print(discriminator)\n",
    "print(generator)\n",
    "\n",
    "# ---------------\n",
    "# optimizers : Adam \n",
    "# ----------------\n",
    "\n",
    "optimizer_discriminator = torch.optim.Adam(discriminator.parameters(), lr=lr,betas=(0.5,0.999))\n",
    "optimizer_generator     = torch.optim.Adam(generator.parameters(), lr=lr, betas=(0.5,0.999))\n"
   ]
  },
  {
   "cell_type": "code",
   "execution_count": null,
   "metadata": {
    "id": "A8HV5g-LMzfH"
   },
   "outputs": [],
   "source": [
    "# ------------\n",
    "# training \n",
    "# --------------\n",
    "for epoch in range(n_epochs):\n",
    "\n",
    "    for n, (real_samples,_) in enumerate(train_loader):\n",
    "\n",
    "        real_samples = real_samples.to(device)\n",
    "\n",
    "        # ---------------------\n",
    "        #  Training the  Discriminator\n",
    "        # ---------------------\n",
    "\n",
    "        # Sampling noise for the generator\n",
    "        z = torch.normal(0,1,(batch_size,latent_dim)).to(device)\n",
    "\n",
    "        # Generate a batch of fake images\n",
    "        fake_samples = generator(z)\n",
    "\n",
    "        optimizer_discriminator.zero_grad()\n",
    "\n",
    "        #loss_discriminator = gan_loss_discriminator(discriminator,generator,real_samples,z)\n",
    "\n",
    "        loss_discriminator = wgan_loss_discriminator(discriminator, generator, real_samples, z)\n",
    "\n",
    "        loss_discriminator += wgan_gradient_penalty(discriminator, real_samples, fake_samples)\n",
    "\n",
    "        loss_discriminator.backward()\n",
    "\n",
    "        optimizer_discriminator.step()\n",
    "\n",
    "        # -----------------\n",
    "        #  Training the Generator\n",
    "        # -----------------\n",
    "        if (n+1) % n_critic == 0 :\n",
    "            \n",
    "          optimizer_generator.zero_grad()\n",
    "\n",
    "          #loss_generator = non_saturating_gan_loss_generator(discriminator,generator,z)\n",
    "\n",
    "          fake_samples = generator(z)\n",
    "\n",
    "          # can I fool the discreminator\n",
    "          disc_fakes = discriminator(fake_samples)\n",
    "\n",
    "          loss_generator = -torch.mean(disc_fakes)\n",
    "\n",
    "          loss_generator.backward()\n",
    "\n",
    "          optimizer_generator.step()\n",
    "\n",
    "\n",
    "        # Printing the loss to display \n",
    "        if  n == batch_size - 1 :    \n",
    "\n",
    "            # -----------------\n",
    "            #  checkpointing the best models\n",
    "            # ------------------\n",
    "\n",
    "            print(f\" Epoch : {epoch+1}, D Loss : {loss_discriminator} , G Loss : {loss_generator}\")\n",
    "\n",
    "            PATH = \"/content/drive/MyDrive/HW5/2_GANS/5_2_2_implementations/MNIST/checkpoint\"+f\"/generator_{epoch+1}.pt\"\n",
    "            torch.save(generator.state_dict(), PATH)\n",
    "\n",
    "            PATH = \"/content/drive/MyDrive/HW5/2_GANS/5_2_2_implementations/MNIST/checkpoint\"+f\"/discriminator_{epoch+1}.pt\"\n",
    "            torch.save(discriminator.state_dict(), PATH)\n",
    "\n",
    "\n",
    "        del real_samples\n",
    "        del z\n",
    "        torch.cuda.empty_cache()\n"
   ]
  },
  {
   "cell_type": "code",
   "execution_count": null,
   "metadata": {
    "id": "68PE-adOWXSV"
   },
   "outputs": [],
   "source": [
    "# ----------------\n",
    "# Loading the models \n",
    "# ------------------\n",
    "\n",
    "generator   = Generator(latent_dim)\n",
    "PATH = \"/content/drive/MyDrive/HW5/2_GANS/5_2_2_implementations/MNIST/checkpoint\"+\"/generator.pt\"\n",
    "generator.load_state_dict(torch.load(PATH))\n",
    "generator.to(device)\n",
    "\n",
    "generator.eval()\n",
    "import numpy as np\n",
    "\n",
    "\n",
    "z = torch.randn(batch_size, latent_dim).to(device)\n",
    "generated_samples = generator(z)\n",
    "generated_samples = generated_samples.cpu().detach().numpy()\n",
    "for i in range(6):\n",
    "\t    ax = plt.subplot(2, 3, i + 1)\n",
    "\t    plt.imshow(generated_samples[i].reshape(28, 28), cmap=\"gray\")\n",
    "\t    plt.xticks([])\n",
    "\t    plt.yticks([])\n",
    "\t    plt.pause(1)\n",
    "\n"
   ]
  },
  {
   "cell_type": "code",
   "execution_count": null,
   "metadata": {
    "id": "o_hiMPIN6rTE"
   },
   "outputs": [],
   "source": []
  }
 ],
 "metadata": {
  "accelerator": "GPU",
  "colab": {
   "authorship_tag": "ABX9TyP4k0huGxFFSs6mIMVfFT/w",
   "collapsed_sections": [],
   "machine_shape": "hm",
   "name": "GANS.ipynb",
   "private_outputs": true,
   "provenance": []
  },
  "kernelspec": {
   "display_name": "Python 3",
   "language": "python",
   "name": "python3"
  },
  "language_info": {
   "codemirror_mode": {
    "name": "ipython",
    "version": 3
   },
   "file_extension": ".py",
   "mimetype": "text/x-python",
   "name": "python",
   "nbconvert_exporter": "python",
   "pygments_lexer": "ipython3",
   "version": "3.8.5"
  }
 },
 "nbformat": 4,
 "nbformat_minor": 1
}
